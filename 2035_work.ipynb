{
 "cells": [
  {
   "cell_type": "code",
   "execution_count": 1,
   "metadata": {},
   "outputs": [
    {
     "name": "stderr",
     "output_type": "stream",
     "text": [
      "/opt/anaconda3/lib/python3.7/site-packages/sklearn/utils/deprecation.py:143: FutureWarning: The sklearn.utils.testing module is  deprecated in version 0.22 and will be removed in version 0.24. The corresponding classes / functions should instead be imported from sklearn.utils. Anything that cannot be imported from sklearn.utils is now part of the private API.\n",
      "  warnings.warn(message, FutureWarning)\n"
     ]
    }
   ],
   "source": [
    "import pandas as pd\n",
    "import numpy as np\n",
    "from sklearn.metrics import f1_score\n",
    "from matplotlib import pyplot as plt\n",
    "import seaborn as sns\n",
    "from sklearn.preprocessing import StandardScaler\n",
    "from sklearn.model_selection import GridSearchCV\n",
    "from sklearn.model_selection import cross_val_score\n",
    "from sklearn.model_selection import train_test_split\n",
    "from sklearn.linear_model import LogisticRegression\n",
    "from sklearn.metrics import accuracy_score\n",
    "from sklearn.utils.testing import ignore_warnings"
   ]
  },
  {
   "cell_type": "code",
   "execution_count": 2,
   "metadata": {},
   "outputs": [],
   "source": [
    "import warnings\n",
    "warnings.filterwarnings(\"ignore\", category=DeprecationWarning)\n",
    "warnings.filterwarnings(\"ignore\", category=FutureWarning)"
   ]
  },
  {
   "cell_type": "code",
   "execution_count": 3,
   "metadata": {},
   "outputs": [],
   "source": [
    "def warn(*args, **kwargs):\n",
    "    pass\n",
    "warnings.warn = warn"
   ]
  },
  {
   "cell_type": "code",
   "execution_count": 31,
   "metadata": {},
   "outputs": [],
   "source": [
    "data = pd.read_csv('data.csv', index_col=0)"
   ]
  },
  {
   "cell_type": "code",
   "execution_count": 32,
   "metadata": {},
   "outputs": [
    {
     "data": {
      "text/html": [
       "<div>\n",
       "<style scoped>\n",
       "    .dataframe tbody tr th:only-of-type {\n",
       "        vertical-align: middle;\n",
       "    }\n",
       "\n",
       "    .dataframe tbody tr th {\n",
       "        vertical-align: top;\n",
       "    }\n",
       "\n",
       "    .dataframe thead th {\n",
       "        text-align: right;\n",
       "    }\n",
       "</style>\n",
       "<table border=\"1\" class=\"dataframe\">\n",
       "  <thead>\n",
       "    <tr style=\"text-align: right;\">\n",
       "      <th></th>\n",
       "      <th>CustomerId</th>\n",
       "      <th>Surname</th>\n",
       "      <th>CreditScore</th>\n",
       "      <th>Geography</th>\n",
       "      <th>Gender</th>\n",
       "      <th>Age</th>\n",
       "      <th>Tenure</th>\n",
       "      <th>Balance</th>\n",
       "      <th>NumOfProducts</th>\n",
       "      <th>HasCrCard</th>\n",
       "      <th>IsActiveMember</th>\n",
       "      <th>EstimatedSalary</th>\n",
       "      <th>Exited</th>\n",
       "    </tr>\n",
       "    <tr>\n",
       "      <th>RowNumber</th>\n",
       "      <th></th>\n",
       "      <th></th>\n",
       "      <th></th>\n",
       "      <th></th>\n",
       "      <th></th>\n",
       "      <th></th>\n",
       "      <th></th>\n",
       "      <th></th>\n",
       "      <th></th>\n",
       "      <th></th>\n",
       "      <th></th>\n",
       "      <th></th>\n",
       "      <th></th>\n",
       "    </tr>\n",
       "  </thead>\n",
       "  <tbody>\n",
       "    <tr>\n",
       "      <th>1</th>\n",
       "      <td>15634602</td>\n",
       "      <td>Hargrave</td>\n",
       "      <td>619</td>\n",
       "      <td>France</td>\n",
       "      <td>Female</td>\n",
       "      <td>42</td>\n",
       "      <td>2</td>\n",
       "      <td>0.00</td>\n",
       "      <td>1</td>\n",
       "      <td>1</td>\n",
       "      <td>1</td>\n",
       "      <td>101348.88</td>\n",
       "      <td>1</td>\n",
       "    </tr>\n",
       "    <tr>\n",
       "      <th>2</th>\n",
       "      <td>15647311</td>\n",
       "      <td>Hill</td>\n",
       "      <td>608</td>\n",
       "      <td>Spain</td>\n",
       "      <td>Female</td>\n",
       "      <td>41</td>\n",
       "      <td>1</td>\n",
       "      <td>83807.86</td>\n",
       "      <td>1</td>\n",
       "      <td>0</td>\n",
       "      <td>1</td>\n",
       "      <td>112542.58</td>\n",
       "      <td>0</td>\n",
       "    </tr>\n",
       "    <tr>\n",
       "      <th>3</th>\n",
       "      <td>15619304</td>\n",
       "      <td>Onio</td>\n",
       "      <td>502</td>\n",
       "      <td>France</td>\n",
       "      <td>Female</td>\n",
       "      <td>42</td>\n",
       "      <td>8</td>\n",
       "      <td>159660.80</td>\n",
       "      <td>3</td>\n",
       "      <td>1</td>\n",
       "      <td>0</td>\n",
       "      <td>113931.57</td>\n",
       "      <td>1</td>\n",
       "    </tr>\n",
       "    <tr>\n",
       "      <th>4</th>\n",
       "      <td>15701354</td>\n",
       "      <td>Boni</td>\n",
       "      <td>699</td>\n",
       "      <td>France</td>\n",
       "      <td>Female</td>\n",
       "      <td>39</td>\n",
       "      <td>1</td>\n",
       "      <td>0.00</td>\n",
       "      <td>2</td>\n",
       "      <td>0</td>\n",
       "      <td>0</td>\n",
       "      <td>93826.63</td>\n",
       "      <td>0</td>\n",
       "    </tr>\n",
       "    <tr>\n",
       "      <th>5</th>\n",
       "      <td>15737888</td>\n",
       "      <td>Mitchell</td>\n",
       "      <td>850</td>\n",
       "      <td>Spain</td>\n",
       "      <td>Female</td>\n",
       "      <td>43</td>\n",
       "      <td>2</td>\n",
       "      <td>125510.82</td>\n",
       "      <td>1</td>\n",
       "      <td>1</td>\n",
       "      <td>1</td>\n",
       "      <td>79084.10</td>\n",
       "      <td>0</td>\n",
       "    </tr>\n",
       "  </tbody>\n",
       "</table>\n",
       "</div>"
      ],
      "text/plain": [
       "           CustomerId   Surname  CreditScore Geography  Gender  Age  Tenure  \\\n",
       "RowNumber                                                                     \n",
       "1            15634602  Hargrave          619    France  Female   42       2   \n",
       "2            15647311      Hill          608     Spain  Female   41       1   \n",
       "3            15619304      Onio          502    France  Female   42       8   \n",
       "4            15701354      Boni          699    France  Female   39       1   \n",
       "5            15737888  Mitchell          850     Spain  Female   43       2   \n",
       "\n",
       "             Balance  NumOfProducts  HasCrCard  IsActiveMember  \\\n",
       "RowNumber                                                        \n",
       "1               0.00              1          1               1   \n",
       "2           83807.86              1          0               1   \n",
       "3          159660.80              3          1               0   \n",
       "4               0.00              2          0               0   \n",
       "5          125510.82              1          1               1   \n",
       "\n",
       "           EstimatedSalary  Exited  \n",
       "RowNumber                           \n",
       "1                101348.88       1  \n",
       "2                112542.58       0  \n",
       "3                113931.57       1  \n",
       "4                 93826.63       0  \n",
       "5                 79084.10       0  "
      ]
     },
     "execution_count": 32,
     "metadata": {},
     "output_type": "execute_result"
    }
   ],
   "source": [
    "data.head()"
   ]
  },
  {
   "cell_type": "code",
   "execution_count": 6,
   "metadata": {},
   "outputs": [
    {
     "name": "stdout",
     "output_type": "stream",
     "text": [
      "<class 'pandas.core.frame.DataFrame'>\n",
      "RangeIndex: 10000 entries, 0 to 9999\n",
      "Data columns (total 14 columns):\n",
      " #   Column           Non-Null Count  Dtype  \n",
      "---  ------           --------------  -----  \n",
      " 0   RowNumber        10000 non-null  int64  \n",
      " 1   CustomerId       10000 non-null  int64  \n",
      " 2   Surname          10000 non-null  object \n",
      " 3   CreditScore      10000 non-null  int64  \n",
      " 4   Geography        10000 non-null  object \n",
      " 5   Gender           10000 non-null  object \n",
      " 6   Age              10000 non-null  int64  \n",
      " 7   Tenure           10000 non-null  int64  \n",
      " 8   Balance          10000 non-null  float64\n",
      " 9   NumOfProducts    10000 non-null  int64  \n",
      " 10  HasCrCard        10000 non-null  int64  \n",
      " 11  IsActiveMember   10000 non-null  int64  \n",
      " 12  EstimatedSalary  10000 non-null  float64\n",
      " 13  Exited           10000 non-null  int64  \n",
      "dtypes: float64(2), int64(9), object(3)\n",
      "memory usage: 1.1+ MB\n"
     ]
    }
   ],
   "source": [
    "data.info()"
   ]
  },
  {
   "cell_type": "code",
   "execution_count": 8,
   "metadata": {},
   "outputs": [
    {
     "data": {
      "image/png": "[encoded data removed]",
      "text/plain": [
       "<Figure size 720x720 with 2 Axes>"
      ]
     },
     "metadata": {
      "needs_background": "light"
     },
     "output_type": "display_data"
    }
   ],
   "source": [
    "plt.subplots(figsize=(10,10))\n",
    "sns.heatmap(data.corr(), square=True)\n",
    "plt.show()"
   ]
  },
  {
   "cell_type": "code",
   "execution_count": 9,
   "metadata": {},
   "outputs": [
    {
     "data": {
      "text/plain": [
       "Text(0.5, 1.0, 'target')"
      ]
     },
     "execution_count": 9,
     "metadata": {},
     "output_type": "execute_result"
    },
    {
     "data": {
      "image/png": "[encoded data removed]",
      "text/plain": [
       "<Figure size 432x288 with 1 Axes>"
      ]
     },
     "metadata": {
      "needs_background": "light"
     },
     "output_type": "display_data"
    }
   ],
   "source": [
    "fig, axs = plt.subplots()\n",
    "axs.hist(data['Exited'], bins=2)\n",
    "axs.set_title('target')"
   ]
  },
  {
   "cell_type": "code",
   "execution_count": 11,
   "metadata": {},
   "outputs": [
    {
     "data": {
      "text/plain": [
       "0    7963\n",
       "1    2037\n",
       "Name: Exited, dtype: int64"
      ]
     },
     "execution_count": 11,
     "metadata": {},
     "output_type": "execute_result"
    }
   ],
   "source": [
    "data['Exited'].value_counts() #сколько клиентов ушло"
   ]
  },
  {
   "cell_type": "code",
   "execution_count": 12,
   "metadata": {},
   "outputs": [
    {
     "data": {
      "text/plain": [
       "Male      5457\n",
       "Female    4543\n",
       "Name: Gender, dtype: int64"
      ]
     },
     "execution_count": 12,
     "metadata": {},
     "output_type": "execute_result"
    }
   ],
   "source": [
    "# сколько мужчин\n",
    "data['Gender'].value_counts()"
   ]
  },
  {
   "cell_type": "code",
   "execution_count": 27,
   "metadata": {},
   "outputs": [
    {
     "data": {
      "text/plain": [
       "France     4204\n",
       "Spain      2064\n",
       "Germany    1695\n",
       "Name: Geography, dtype: int64"
      ]
     },
     "execution_count": 27,
     "metadata": {},
     "output_type": "execute_result"
    }
   ],
   "source": [
    "# самая многочисленная страна\n",
    "data[data['Exited'] == 0]['Geography'].value_counts()"
   ]
  },
  {
   "cell_type": "code",
   "execution_count": 23,
   "metadata": {},
   "outputs": [
    {
     "name": "stdout",
     "output_type": "stream",
     "text": [
      "RowNumber          0.3117\n",
      "CustomerId         0.3117\n",
      "Surname            0.3117\n",
      "CreditScore        0.3117\n",
      "Geography          0.3117\n",
      "Gender             0.3117\n",
      "Age                0.3117\n",
      "Tenure             0.3117\n",
      "Balance            0.3117\n",
      "NumOfProducts      0.3117\n",
      "HasCrCard          0.3117\n",
      "IsActiveMember     0.3117\n",
      "EstimatedSalary    0.3117\n",
      "Exited             0.3117\n",
      "dtype: float64\n"
     ]
    }
   ],
   "source": [
    "# доля клиентов с нулевым балансом\n",
    "total_balance = data['Balance'].count()\n",
    "sim_balance = data[(data['Balance'] == 0) & (data['Exited'] == 0)].count()\n",
    "x = sim_balance / total_balance\n",
    "print(x)"
   ]
  },
  {
   "cell_type": "code",
   "execution_count": 29,
   "metadata": {},
   "outputs": [
    {
     "data": {
      "text/plain": [
       "RowNumber          3617\n",
       "CustomerId         3617\n",
       "Surname            3617\n",
       "CreditScore        3617\n",
       "Geography          3617\n",
       "Gender             3617\n",
       "Age                3617\n",
       "Tenure             3617\n",
       "Balance            3617\n",
       "NumOfProducts      3617\n",
       "HasCrCard          3617\n",
       "IsActiveMember     3617\n",
       "EstimatedSalary    3617\n",
       "Exited             3617\n",
       "dtype: int64"
      ]
     },
     "execution_count": 29,
     "metadata": {},
     "output_type": "execute_result"
    }
   ],
   "source": [
    "# data[(data['Balance'] == 0.00) & (data['Exited'] == 0)].count()\n",
    "data[(data['Balance'] == 0.00)].count()"
   ]
  },
  {
   "cell_type": "code",
   "execution_count": 33,
   "metadata": {},
   "outputs": [],
   "source": [
    "def get_best_score(model):\n",
    "    \n",
    "    print(model.best_score_)    \n",
    "    print(model.best_params_)\n",
    "    print(model.best_estimator_)\n",
    "    \n",
    "    return"
   ]
  },
  {
   "cell_type": "code",
   "execution_count": 48,
   "metadata": {},
   "outputs": [],
   "source": [
    "from sklearn.metrics import accuracy_score, roc_auc_score, f1_score"
   ]
  },
  {
   "cell_type": "code",
   "execution_count": 67,
   "metadata": {},
   "outputs": [],
   "source": [
    "categorical_columns = [c for c in data.columns if data[c].dtype.name == 'object' and c!='Surname']\n",
    "numerical_columns   = [c for c in data.columns if data[c].dtype.name != 'object']"
   ]
  },
  {
   "cell_type": "code",
   "execution_count": 68,
   "metadata": {},
   "outputs": [
    {
     "data": {
      "text/plain": [
       "['Geography', 'Gender']"
      ]
     },
     "execution_count": 68,
     "metadata": {},
     "output_type": "execute_result"
    }
   ],
   "source": [
    "categorical_columns"
   ]
  },
  {
   "cell_type": "code",
   "execution_count": 42,
   "metadata": {},
   "outputs": [],
   "source": [
    "X = data[numerical_columns].drop(['Exited', 'CustomerId'], axis=1)\n",
    "y = data['Exited']"
   ]
  },
  {
   "cell_type": "code",
   "execution_count": 43,
   "metadata": {},
   "outputs": [
    {
     "data": {
      "text/html": [
       "<div>\n",
       "<style scoped>\n",
       "    .dataframe tbody tr th:only-of-type {\n",
       "        vertical-align: middle;\n",
       "    }\n",
       "\n",
       "    .dataframe tbody tr th {\n",
       "        vertical-align: top;\n",
       "    }\n",
       "\n",
       "    .dataframe thead th {\n",
       "        text-align: right;\n",
       "    }\n",
       "</style>\n",
       "<table border=\"1\" class=\"dataframe\">\n",
       "  <thead>\n",
       "    <tr style=\"text-align: right;\">\n",
       "      <th></th>\n",
       "      <th>CreditScore</th>\n",
       "      <th>Age</th>\n",
       "      <th>Tenure</th>\n",
       "      <th>Balance</th>\n",
       "      <th>NumOfProducts</th>\n",
       "      <th>HasCrCard</th>\n",
       "      <th>IsActiveMember</th>\n",
       "      <th>EstimatedSalary</th>\n",
       "    </tr>\n",
       "    <tr>\n",
       "      <th>RowNumber</th>\n",
       "      <th></th>\n",
       "      <th></th>\n",
       "      <th></th>\n",
       "      <th></th>\n",
       "      <th></th>\n",
       "      <th></th>\n",
       "      <th></th>\n",
       "      <th></th>\n",
       "    </tr>\n",
       "  </thead>\n",
       "  <tbody>\n",
       "    <tr>\n",
       "      <th>1</th>\n",
       "      <td>619</td>\n",
       "      <td>42</td>\n",
       "      <td>2</td>\n",
       "      <td>0.00</td>\n",
       "      <td>1</td>\n",
       "      <td>1</td>\n",
       "      <td>1</td>\n",
       "      <td>101348.88</td>\n",
       "    </tr>\n",
       "    <tr>\n",
       "      <th>2</th>\n",
       "      <td>608</td>\n",
       "      <td>41</td>\n",
       "      <td>1</td>\n",
       "      <td>83807.86</td>\n",
       "      <td>1</td>\n",
       "      <td>0</td>\n",
       "      <td>1</td>\n",
       "      <td>112542.58</td>\n",
       "    </tr>\n",
       "    <tr>\n",
       "      <th>3</th>\n",
       "      <td>502</td>\n",
       "      <td>42</td>\n",
       "      <td>8</td>\n",
       "      <td>159660.80</td>\n",
       "      <td>3</td>\n",
       "      <td>1</td>\n",
       "      <td>0</td>\n",
       "      <td>113931.57</td>\n",
       "    </tr>\n",
       "    <tr>\n",
       "      <th>4</th>\n",
       "      <td>699</td>\n",
       "      <td>39</td>\n",
       "      <td>1</td>\n",
       "      <td>0.00</td>\n",
       "      <td>2</td>\n",
       "      <td>0</td>\n",
       "      <td>0</td>\n",
       "      <td>93826.63</td>\n",
       "    </tr>\n",
       "    <tr>\n",
       "      <th>5</th>\n",
       "      <td>850</td>\n",
       "      <td>43</td>\n",
       "      <td>2</td>\n",
       "      <td>125510.82</td>\n",
       "      <td>1</td>\n",
       "      <td>1</td>\n",
       "      <td>1</td>\n",
       "      <td>79084.10</td>\n",
       "    </tr>\n",
       "  </tbody>\n",
       "</table>\n",
       "</div>"
      ],
      "text/plain": [
       "           CreditScore  Age  Tenure    Balance  NumOfProducts  HasCrCard  \\\n",
       "RowNumber                                                                  \n",
       "1                  619   42       2       0.00              1          1   \n",
       "2                  608   41       1   83807.86              1          0   \n",
       "3                  502   42       8  159660.80              3          1   \n",
       "4                  699   39       1       0.00              2          0   \n",
       "5                  850   43       2  125510.82              1          1   \n",
       "\n",
       "           IsActiveMember  EstimatedSalary  \n",
       "RowNumber                                   \n",
       "1                       1        101348.88  \n",
       "2                       1        112542.58  \n",
       "3                       0        113931.57  \n",
       "4                       0         93826.63  \n",
       "5                       1         79084.10  "
      ]
     },
     "execution_count": 43,
     "metadata": {},
     "output_type": "execute_result"
    }
   ],
   "source": [
    "X.head()"
   ]
  },
  {
   "cell_type": "code",
   "execution_count": 44,
   "metadata": {},
   "outputs": [],
   "source": [
    "X_train, X_test, y_train, y_test = train_test_split(X, y, test_size=0.3, random_state=42, shuffle=True)"
   ]
  },
  {
   "cell_type": "code",
   "execution_count": 46,
   "metadata": {},
   "outputs": [],
   "source": [
    "lr = LogisticRegression()\n",
    "\n",
    "lr.fit(X_train, y_train)\n",
    "\n",
    "y_test_predict = lr.predict(X_test)"
   ]
  },
  {
   "cell_type": "code",
   "execution_count": 49,
   "metadata": {},
   "outputs": [
    {
     "name": "stdout",
     "output_type": "stream",
     "text": [
      "Accuracy: 0.8006666666666666\n",
      "ROC-AUC : 0.5282647645831442\n",
      "f1_score: 0.13832853025936598\n"
     ]
    }
   ],
   "source": [
    "print('Accuracy:', accuracy_score(y_test, y_test_predict))\n",
    "print('ROC-AUC :', roc_auc_score(y_test, y_test_predict))\n",
    "print('f1_score:', f1_score(y_test, y_test_predict))"
   ]
  },
  {
   "cell_type": "code",
   "execution_count": 50,
   "metadata": {},
   "outputs": [],
   "source": [
    "from sklearn.ensemble import RandomForestClassifier\n",
    "\n",
    "rfc = RandomForestClassifier()\n",
    "\n",
    "rfc.fit(X_train, y_train)\n",
    "\n",
    "y_test_predict = rfc.predict(X_test)"
   ]
  },
  {
   "cell_type": "code",
   "execution_count": 51,
   "metadata": {},
   "outputs": [
    {
     "name": "stdout",
     "output_type": "stream",
     "text": [
      "Accuracy: 0.8573333333333333\n",
      "ROC-AUC : 0.6893937675768848\n",
      "f1_score: 0.5307017543859649\n"
     ]
    }
   ],
   "source": [
    "print('Accuracy:', accuracy_score(y_test, y_test_predict))\n",
    "print('ROC-AUC :', roc_auc_score(y_test, y_test_predict))\n",
    "print('f1_score:', f1_score(y_test, y_test_predict))"
   ]
  },
  {
   "cell_type": "code",
   "execution_count": 69,
   "metadata": {},
   "outputs": [],
   "source": [
    "X_full = data.drop(['Exited', 'CustomerId', 'Surname'], axis=1)"
   ]
  },
  {
   "cell_type": "code",
   "execution_count": 70,
   "metadata": {},
   "outputs": [],
   "source": [
    "X_full = pd.get_dummies(X_full, columns=categorical_columns, drop_first=False)"
   ]
  },
  {
   "cell_type": "code",
   "execution_count": 71,
   "metadata": {},
   "outputs": [
    {
     "data": {
      "text/html": [
       "<div>\n",
       "<style scoped>\n",
       "    .dataframe tbody tr th:only-of-type {\n",
       "        vertical-align: middle;\n",
       "    }\n",
       "\n",
       "    .dataframe tbody tr th {\n",
       "        vertical-align: top;\n",
       "    }\n",
       "\n",
       "    .dataframe thead th {\n",
       "        text-align: right;\n",
       "    }\n",
       "</style>\n",
       "<table border=\"1\" class=\"dataframe\">\n",
       "  <thead>\n",
       "    <tr style=\"text-align: right;\">\n",
       "      <th></th>\n",
       "      <th>CreditScore</th>\n",
       "      <th>Age</th>\n",
       "      <th>Tenure</th>\n",
       "      <th>Balance</th>\n",
       "      <th>NumOfProducts</th>\n",
       "      <th>HasCrCard</th>\n",
       "      <th>IsActiveMember</th>\n",
       "      <th>EstimatedSalary</th>\n",
       "      <th>Geography_France</th>\n",
       "      <th>Geography_Germany</th>\n",
       "      <th>Geography_Spain</th>\n",
       "      <th>Gender_Female</th>\n",
       "      <th>Gender_Male</th>\n",
       "    </tr>\n",
       "    <tr>\n",
       "      <th>RowNumber</th>\n",
       "      <th></th>\n",
       "      <th></th>\n",
       "      <th></th>\n",
       "      <th></th>\n",
       "      <th></th>\n",
       "      <th></th>\n",
       "      <th></th>\n",
       "      <th></th>\n",
       "      <th></th>\n",
       "      <th></th>\n",
       "      <th></th>\n",
       "      <th></th>\n",
       "      <th></th>\n",
       "    </tr>\n",
       "  </thead>\n",
       "  <tbody>\n",
       "    <tr>\n",
       "      <th>1</th>\n",
       "      <td>619</td>\n",
       "      <td>42</td>\n",
       "      <td>2</td>\n",
       "      <td>0.00</td>\n",
       "      <td>1</td>\n",
       "      <td>1</td>\n",
       "      <td>1</td>\n",
       "      <td>101348.88</td>\n",
       "      <td>1</td>\n",
       "      <td>0</td>\n",
       "      <td>0</td>\n",
       "      <td>1</td>\n",
       "      <td>0</td>\n",
       "    </tr>\n",
       "    <tr>\n",
       "      <th>2</th>\n",
       "      <td>608</td>\n",
       "      <td>41</td>\n",
       "      <td>1</td>\n",
       "      <td>83807.86</td>\n",
       "      <td>1</td>\n",
       "      <td>0</td>\n",
       "      <td>1</td>\n",
       "      <td>112542.58</td>\n",
       "      <td>0</td>\n",
       "      <td>0</td>\n",
       "      <td>1</td>\n",
       "      <td>1</td>\n",
       "      <td>0</td>\n",
       "    </tr>\n",
       "    <tr>\n",
       "      <th>3</th>\n",
       "      <td>502</td>\n",
       "      <td>42</td>\n",
       "      <td>8</td>\n",
       "      <td>159660.80</td>\n",
       "      <td>3</td>\n",
       "      <td>1</td>\n",
       "      <td>0</td>\n",
       "      <td>113931.57</td>\n",
       "      <td>1</td>\n",
       "      <td>0</td>\n",
       "      <td>0</td>\n",
       "      <td>1</td>\n",
       "      <td>0</td>\n",
       "    </tr>\n",
       "    <tr>\n",
       "      <th>4</th>\n",
       "      <td>699</td>\n",
       "      <td>39</td>\n",
       "      <td>1</td>\n",
       "      <td>0.00</td>\n",
       "      <td>2</td>\n",
       "      <td>0</td>\n",
       "      <td>0</td>\n",
       "      <td>93826.63</td>\n",
       "      <td>1</td>\n",
       "      <td>0</td>\n",
       "      <td>0</td>\n",
       "      <td>1</td>\n",
       "      <td>0</td>\n",
       "    </tr>\n",
       "    <tr>\n",
       "      <th>5</th>\n",
       "      <td>850</td>\n",
       "      <td>43</td>\n",
       "      <td>2</td>\n",
       "      <td>125510.82</td>\n",
       "      <td>1</td>\n",
       "      <td>1</td>\n",
       "      <td>1</td>\n",
       "      <td>79084.10</td>\n",
       "      <td>0</td>\n",
       "      <td>0</td>\n",
       "      <td>1</td>\n",
       "      <td>1</td>\n",
       "      <td>0</td>\n",
       "    </tr>\n",
       "  </tbody>\n",
       "</table>\n",
       "</div>"
      ],
      "text/plain": [
       "           CreditScore  Age  Tenure    Balance  NumOfProducts  HasCrCard  \\\n",
       "RowNumber                                                                  \n",
       "1                  619   42       2       0.00              1          1   \n",
       "2                  608   41       1   83807.86              1          0   \n",
       "3                  502   42       8  159660.80              3          1   \n",
       "4                  699   39       1       0.00              2          0   \n",
       "5                  850   43       2  125510.82              1          1   \n",
       "\n",
       "           IsActiveMember  EstimatedSalary  Geography_France  \\\n",
       "RowNumber                                                      \n",
       "1                       1        101348.88                 1   \n",
       "2                       1        112542.58                 0   \n",
       "3                       0        113931.57                 1   \n",
       "4                       0         93826.63                 1   \n",
       "5                       1         79084.10                 0   \n",
       "\n",
       "           Geography_Germany  Geography_Spain  Gender_Female  Gender_Male  \n",
       "RowNumber                                                                  \n",
       "1                          0                0              1            0  \n",
       "2                          0                1              1            0  \n",
       "3                          0                0              1            0  \n",
       "4                          0                0              1            0  \n",
       "5                          0                1              1            0  "
      ]
     },
     "execution_count": 71,
     "metadata": {},
     "output_type": "execute_result"
    }
   ],
   "source": [
    "X_full.head()"
   ]
  },
  {
   "cell_type": "code",
   "execution_count": 72,
   "metadata": {},
   "outputs": [],
   "source": [
    "X_train, X_test, y_train, y_test = train_test_split(X_full, y, test_size=0.3, random_state=42, shuffle=True)"
   ]
  },
  {
   "cell_type": "code",
   "execution_count": 121,
   "metadata": {},
   "outputs": [],
   "source": [
    "rfc = RandomForestClassifier(class_weight = {0:1, 1:1}, random_state=42)\n",
    "\n",
    "rfc.fit(X_train, y_train)\n",
    "\n",
    "y_test_predict = rfc.predict(X_test)"
   ]
  },
  {
   "cell_type": "code",
   "execution_count": 122,
   "metadata": {},
   "outputs": [
    {
     "name": "stdout",
     "output_type": "stream",
     "text": [
      "Accuracy: 0.867\n",
      "ROC-AUC : 0.7155209561825274\n",
      "f1_score: 0.5777777777777778\n"
     ]
    }
   ],
   "source": [
    "print('Accuracy:', accuracy_score(y_test, y_test_predict))\n",
    "print('ROC-AUC :', roc_auc_score(y_test, y_test_predict))\n",
    "print('f1_score:', f1_score(y_test, y_test_predict))"
   ]
  },
  {
   "cell_type": "code",
   "execution_count": 152,
   "metadata": {},
   "outputs": [
    {
     "name": "stdout",
     "output_type": "stream",
     "text": [
      "Fitting 5 folds for each of 216 candidates, totalling 1080 fits\n"
     ]
    },
    {
     "name": "stderr",
     "output_type": "stream",
     "text": [
      "[Parallel(n_jobs=-1)]: Using backend LokyBackend with 16 concurrent workers.\n",
      "[Parallel(n_jobs=-1)]: Done  40 tasks      | elapsed:    5.1s\n",
      "[Parallel(n_jobs=-1)]: Done 130 tasks      | elapsed:   16.1s\n",
      "[Parallel(n_jobs=-1)]: Done 256 tasks      | elapsed:   34.3s\n",
      "[Parallel(n_jobs=-1)]: Done 418 tasks      | elapsed:  1.0min\n",
      "[Parallel(n_jobs=-1)]: Done 616 tasks      | elapsed:  1.6min\n",
      "[Parallel(n_jobs=-1)]: Done 850 tasks      | elapsed:  2.4min\n",
      "[Parallel(n_jobs=-1)]: Done 1080 out of 1080 | elapsed:  3.4min finished\n"
     ]
    },
    {
     "data": {
      "text/plain": [
       "GridSearchCV(estimator=RandomForestClassifier(), n_jobs=-1,\n",
       "             param_grid={'bootstrap': [True, False],\n",
       "                         'class_weight': [{0: 1, 1: 3}],\n",
       "                         'criterion': ['entropy'], 'max_depth': [5, 10, 20],\n",
       "                         'max_features': [5, 10, 20],\n",
       "                         'min_samples_split': [2, 10, 20, 25],\n",
       "                         'n_estimators': [200, 250, 300],\n",
       "                         'random_state': [42]},\n",
       "             scoring='roc_auc', verbose=5)"
      ]
     },
     "execution_count": 152,
     "metadata": {},
     "output_type": "execute_result"
    }
   ],
   "source": [
    "rfc = RandomForestClassifier()\n",
    "\n",
    "param_grid = {\n",
    "    'max_depth': [5, 10, 20], 'max_features': [5, 10, 20],  \n",
    "    'min_samples_split': [2, 10, 20, 25], 'n_estimators': [200, 250, 300], \n",
    "    'criterion': ['entropy'], # , 11, 12, 14, 15], \n",
    "    'random_state': [42], 'class_weight': [{0:1, 1:3}],\n",
    "#     'max_leaf_nodes': [None] + list(np.linspace(10, 50, 500).astype(int)),\n",
    "    'bootstrap': [True, False]\n",
    "}\n",
    "\n",
    "rf_grid = GridSearchCV(rfc, param_grid, refit=True, verbose=5, n_jobs=-1, scoring = 'roc_auc')\n",
    "rf_grid.fit(X_train, y_train)"
   ]
  },
  {
   "cell_type": "code",
   "execution_count": 153,
   "metadata": {},
   "outputs": [
    {
     "name": "stdout",
     "output_type": "stream",
     "text": [
      "0.8641263113995048\n",
      "{'bootstrap': True, 'class_weight': {0: 1, 1: 3}, 'criterion': 'entropy', 'max_depth': 10, 'max_features': 5, 'min_samples_split': 20, 'n_estimators': 250, 'random_state': 42}\n",
      "RandomForestClassifier(class_weight={0: 1, 1: 3}, criterion='entropy',\n",
      "                       max_depth=10, max_features=5, min_samples_split=20,\n",
      "                       n_estimators=250, random_state=42)\n"
     ]
    }
   ],
   "source": [
    "get_best_score(rf_grid)"
   ]
  },
  {
   "cell_type": "code",
   "execution_count": 154,
   "metadata": {},
   "outputs": [],
   "source": [
    "y_test_predict = rf_grid.predict(X_test)"
   ]
  },
  {
   "cell_type": "code",
   "execution_count": 155,
   "metadata": {},
   "outputs": [
    {
     "name": "stdout",
     "output_type": "stream",
     "text": [
      "Accuracy: 0.8503333333333334\n",
      "ROC-AUC : 0.7687959266987209\n",
      "f1_score: 0.6230058774139378\n"
     ]
    }
   ],
   "source": [
    "print('Accuracy:', accuracy_score(y_test, y_test_predict))\n",
    "print('ROC-AUC :', roc_auc_score(y_test, y_test_predict))\n",
    "print('f1_score:', f1_score(y_test, y_test_predict))"
   ]
  },
  {
   "cell_type": "code",
   "execution_count": 162,
   "metadata": {},
   "outputs": [],
   "source": [
    "params_n = {\n",
    "    'eta': [10, 1, 20],\n",
    "    'max_depth': [8, 10, 30],\n",
    "#     'subsample': [0.8, 0.1, 1, 0.01],\n",
    "    'colsample_bytree': [0.8, 0.1, 1],\n",
    "    'n_estimators': [10, 100, 150],\n",
    "    \n",
    "    'gamma': [0.01, 10, 20],\n",
    "    'lambda': [0,1],\n",
    "    'alpha': [0,1],\n",
    "    'min_child_weight': [0,1],\n",
    "    'learning_rate': [0.01, 0.001],\n",
    "    \n",
    "#     'eval_metric': 'auc',\n",
    "#     'objective': 'binary:logistic' ,\n",
    "#     'booster': 'gbtree',\n",
    "#     'n_jobs': 10,\n",
    "#     'tree_method': 'approx'\n",
    "}"
   ]
  },
  {
   "cell_type": "code",
   "execution_count": 163,
   "metadata": {},
   "outputs": [
    {
     "name": "stdout",
     "output_type": "stream",
     "text": [
      "Fitting 5 folds for each of 3888 candidates, totalling 19440 fits\n"
     ]
    },
    {
     "name": "stderr",
     "output_type": "stream",
     "text": [
      "[Parallel(n_jobs=32)]: Using backend LokyBackend with 32 concurrent workers.\n",
      "[Parallel(n_jobs=32)]: Done   8 tasks      | elapsed:    3.2s\n",
      "[Parallel(n_jobs=32)]: Done  21 tasks      | elapsed:    5.6s\n",
      "[Parallel(n_jobs=32)]: Done  34 tasks      | elapsed:    6.6s\n",
      "[Parallel(n_jobs=32)]: Done  49 tasks      | elapsed:    8.3s\n",
      "[Parallel(n_jobs=32)]: Done  64 tasks      | elapsed:    8.8s\n",
      "[Parallel(n_jobs=32)]: Done  81 tasks      | elapsed:   11.2s\n",
      "[Parallel(n_jobs=32)]: Done  98 tasks      | elapsed:   13.3s\n",
      "[Parallel(n_jobs=32)]: Done 117 tasks      | elapsed:   14.8s\n",
      "[Parallel(n_jobs=32)]: Done 136 tasks      | elapsed:   16.8s\n",
      "[Parallel(n_jobs=32)]: Done 157 tasks      | elapsed:   19.3s\n",
      "[Parallel(n_jobs=32)]: Done 178 tasks      | elapsed:   21.7s\n",
      "[Parallel(n_jobs=32)]: Done 201 tasks      | elapsed:   24.4s\n",
      "[Parallel(n_jobs=32)]: Done 224 tasks      | elapsed:   26.0s\n",
      "[Parallel(n_jobs=32)]: Done 249 tasks      | elapsed:   29.8s\n",
      "[Parallel(n_jobs=32)]: Done 274 tasks      | elapsed:   33.6s\n",
      "[Parallel(n_jobs=32)]: Done 301 tasks      | elapsed:   34.3s\n",
      "[Parallel(n_jobs=32)]: Done 328 tasks      | elapsed:   37.9s\n",
      "[Parallel(n_jobs=32)]: Done 357 tasks      | elapsed:   42.0s\n",
      "[Parallel(n_jobs=32)]: Done 386 tasks      | elapsed:   43.9s\n",
      "[Parallel(n_jobs=32)]: Done 417 tasks      | elapsed:   47.5s\n",
      "[Parallel(n_jobs=32)]: Done 448 tasks      | elapsed:   51.5s\n",
      "[Parallel(n_jobs=32)]: Done 481 tasks      | elapsed:   54.5s\n",
      "[Parallel(n_jobs=32)]: Done 514 tasks      | elapsed:   58.3s\n",
      "[Parallel(n_jobs=32)]: Done 549 tasks      | elapsed:  1.0min\n",
      "[Parallel(n_jobs=32)]: Done 584 tasks      | elapsed:  1.1min\n",
      "[Parallel(n_jobs=32)]: Done 621 tasks      | elapsed:  1.2min\n",
      "[Parallel(n_jobs=32)]: Done 658 tasks      | elapsed:  1.3min\n",
      "[Parallel(n_jobs=32)]: Done 697 tasks      | elapsed:  1.3min\n",
      "[Parallel(n_jobs=32)]: Done 736 tasks      | elapsed:  1.4min\n",
      "[Parallel(n_jobs=32)]: Done 777 tasks      | elapsed:  1.5min\n",
      "[Parallel(n_jobs=32)]: Done 818 tasks      | elapsed:  1.6min\n",
      "[Parallel(n_jobs=32)]: Done 861 tasks      | elapsed:  1.6min\n",
      "[Parallel(n_jobs=32)]: Done 904 tasks      | elapsed:  1.7min\n",
      "[Parallel(n_jobs=32)]: Done 949 tasks      | elapsed:  1.8min\n",
      "[Parallel(n_jobs=32)]: Done 994 tasks      | elapsed:  1.9min\n",
      "[Parallel(n_jobs=32)]: Done 1041 tasks      | elapsed:  2.0min\n",
      "[Parallel(n_jobs=32)]: Done 1088 tasks      | elapsed:  2.1min\n",
      "[Parallel(n_jobs=32)]: Done 1137 tasks      | elapsed:  2.2min\n",
      "[Parallel(n_jobs=32)]: Done 1186 tasks      | elapsed:  2.3min\n",
      "[Parallel(n_jobs=32)]: Done 1237 tasks      | elapsed:  2.3min\n",
      "[Parallel(n_jobs=32)]: Done 1288 tasks      | elapsed:  2.4min\n",
      "[Parallel(n_jobs=32)]: Done 1341 tasks      | elapsed:  2.5min\n",
      "[Parallel(n_jobs=32)]: Done 1394 tasks      | elapsed:  2.6min\n",
      "[Parallel(n_jobs=32)]: Done 1449 tasks      | elapsed:  2.7min\n",
      "[Parallel(n_jobs=32)]: Done 1504 tasks      | elapsed:  2.8min\n",
      "[Parallel(n_jobs=32)]: Done 1561 tasks      | elapsed:  2.9min\n",
      "[Parallel(n_jobs=32)]: Done 1618 tasks      | elapsed:  3.1min\n",
      "[Parallel(n_jobs=32)]: Done 1677 tasks      | elapsed:  3.1min\n",
      "[Parallel(n_jobs=32)]: Done 1736 tasks      | elapsed:  3.3min\n",
      "[Parallel(n_jobs=32)]: Done 1797 tasks      | elapsed:  3.4min\n",
      "[Parallel(n_jobs=32)]: Done 1858 tasks      | elapsed:  3.6min\n",
      "[Parallel(n_jobs=32)]: Done 1921 tasks      | elapsed:  3.7min\n",
      "[Parallel(n_jobs=32)]: Done 1984 tasks      | elapsed:  3.8min\n",
      "[Parallel(n_jobs=32)]: Done 2049 tasks      | elapsed:  3.9min\n",
      "[Parallel(n_jobs=32)]: Done 2114 tasks      | elapsed:  4.0min\n",
      "[Parallel(n_jobs=32)]: Done 2181 tasks      | elapsed:  4.2min\n",
      "[Parallel(n_jobs=32)]: Done 2248 tasks      | elapsed:  4.3min\n",
      "[Parallel(n_jobs=32)]: Done 2317 tasks      | elapsed:  4.4min\n",
      "[Parallel(n_jobs=32)]: Done 2386 tasks      | elapsed:  4.5min\n",
      "[Parallel(n_jobs=32)]: Done 2457 tasks      | elapsed:  4.7min\n",
      "[Parallel(n_jobs=32)]: Done 2528 tasks      | elapsed:  4.8min\n",
      "[Parallel(n_jobs=32)]: Done 2601 tasks      | elapsed:  5.0min\n",
      "[Parallel(n_jobs=32)]: Done 2674 tasks      | elapsed:  5.1min\n",
      "[Parallel(n_jobs=32)]: Done 2749 tasks      | elapsed:  5.2min\n",
      "[Parallel(n_jobs=32)]: Done 2824 tasks      | elapsed:  5.4min\n",
      "[Parallel(n_jobs=32)]: Done 2901 tasks      | elapsed:  5.5min\n",
      "[Parallel(n_jobs=32)]: Done 2978 tasks      | elapsed:  5.7min\n",
      "[Parallel(n_jobs=32)]: Done 3057 tasks      | elapsed:  5.8min\n",
      "[Parallel(n_jobs=32)]: Done 3136 tasks      | elapsed:  6.0min\n",
      "[Parallel(n_jobs=32)]: Done 3217 tasks      | elapsed:  6.1min\n",
      "[Parallel(n_jobs=32)]: Done 3298 tasks      | elapsed:  6.2min\n",
      "[Parallel(n_jobs=32)]: Done 3381 tasks      | elapsed:  6.3min\n",
      "[Parallel(n_jobs=32)]: Done 3464 tasks      | elapsed:  6.3min\n",
      "[Parallel(n_jobs=32)]: Done 3549 tasks      | elapsed:  6.3min\n",
      "[Parallel(n_jobs=32)]: Done 3634 tasks      | elapsed:  6.4min\n",
      "[Parallel(n_jobs=32)]: Done 3721 tasks      | elapsed:  6.4min\n",
      "[Parallel(n_jobs=32)]: Done 3808 tasks      | elapsed:  6.5min\n",
      "[Parallel(n_jobs=32)]: Done 3897 tasks      | elapsed:  6.5min\n",
      "[Parallel(n_jobs=32)]: Done 3986 tasks      | elapsed:  6.6min\n",
      "[Parallel(n_jobs=32)]: Done 4077 tasks      | elapsed:  6.6min\n",
      "[Parallel(n_jobs=32)]: Done 4168 tasks      | elapsed:  6.6min\n",
      "[Parallel(n_jobs=32)]: Done 4261 tasks      | elapsed:  6.7min\n",
      "[Parallel(n_jobs=32)]: Done 4354 tasks      | elapsed:  6.7min\n",
      "[Parallel(n_jobs=32)]: Done 4449 tasks      | elapsed:  6.8min\n",
      "[Parallel(n_jobs=32)]: Done 4544 tasks      | elapsed:  6.8min\n",
      "[Parallel(n_jobs=32)]: Done 4641 tasks      | elapsed:  6.9min\n",
      "[Parallel(n_jobs=32)]: Done 4738 tasks      | elapsed:  6.9min\n",
      "[Parallel(n_jobs=32)]: Done 4837 tasks      | elapsed:  7.0min\n",
      "[Parallel(n_jobs=32)]: Done 4936 tasks      | elapsed:  7.0min\n",
      "[Parallel(n_jobs=32)]: Done 5037 tasks      | elapsed:  7.1min\n",
      "[Parallel(n_jobs=32)]: Done 5138 tasks      | elapsed:  7.1min\n",
      "[Parallel(n_jobs=32)]: Done 5241 tasks      | elapsed:  7.2min\n",
      "[Parallel(n_jobs=32)]: Done 5344 tasks      | elapsed:  7.2min\n",
      "[Parallel(n_jobs=32)]: Done 5449 tasks      | elapsed:  7.3min\n",
      "[Parallel(n_jobs=32)]: Done 5554 tasks      | elapsed:  7.3min\n",
      "[Parallel(n_jobs=32)]: Done 5661 tasks      | elapsed:  7.4min\n",
      "[Parallel(n_jobs=32)]: Done 5768 tasks      | elapsed:  7.5min\n",
      "[Parallel(n_jobs=32)]: Done 5877 tasks      | elapsed:  7.5min\n",
      "[Parallel(n_jobs=32)]: Done 5986 tasks      | elapsed:  7.6min\n",
      "[Parallel(n_jobs=32)]: Done 6097 tasks      | elapsed:  7.6min\n",
      "[Parallel(n_jobs=32)]: Done 6208 tasks      | elapsed:  7.7min\n",
      "[Parallel(n_jobs=32)]: Done 6321 tasks      | elapsed:  7.7min\n",
      "[Parallel(n_jobs=32)]: Done 6434 tasks      | elapsed:  7.8min\n",
      "[Parallel(n_jobs=32)]: Done 6549 tasks      | elapsed:  7.9min\n",
      "[Parallel(n_jobs=32)]: Done 6664 tasks      | elapsed:  8.3min\n",
      "[Parallel(n_jobs=32)]: Done 6781 tasks      | elapsed:  8.6min\n",
      "[Parallel(n_jobs=32)]: Done 6898 tasks      | elapsed:  8.9min\n",
      "[Parallel(n_jobs=32)]: Done 7017 tasks      | elapsed:  9.2min\n",
      "[Parallel(n_jobs=32)]: Done 7136 tasks      | elapsed:  9.5min\n",
      "[Parallel(n_jobs=32)]: Done 7257 tasks      | elapsed:  9.8min\n",
      "[Parallel(n_jobs=32)]: Done 7378 tasks      | elapsed: 10.1min\n",
      "[Parallel(n_jobs=32)]: Done 7501 tasks      | elapsed: 10.4min\n",
      "[Parallel(n_jobs=32)]: Done 7624 tasks      | elapsed: 10.7min\n",
      "[Parallel(n_jobs=32)]: Done 7749 tasks      | elapsed: 11.1min\n",
      "[Parallel(n_jobs=32)]: Done 7874 tasks      | elapsed: 11.4min\n",
      "[Parallel(n_jobs=32)]: Done 8001 tasks      | elapsed: 11.8min\n",
      "[Parallel(n_jobs=32)]: Done 8128 tasks      | elapsed: 12.1min\n",
      "[Parallel(n_jobs=32)]: Done 8257 tasks      | elapsed: 12.4min\n",
      "[Parallel(n_jobs=32)]: Done 8386 tasks      | elapsed: 12.7min\n",
      "[Parallel(n_jobs=32)]: Done 8517 tasks      | elapsed: 13.0min\n",
      "[Parallel(n_jobs=32)]: Done 8648 tasks      | elapsed: 13.3min\n",
      "[Parallel(n_jobs=32)]: Done 8781 tasks      | elapsed: 13.6min\n",
      "[Parallel(n_jobs=32)]: Done 8914 tasks      | elapsed: 14.0min\n",
      "[Parallel(n_jobs=32)]: Done 9049 tasks      | elapsed: 14.3min\n",
      "[Parallel(n_jobs=32)]: Done 9184 tasks      | elapsed: 14.6min\n",
      "[Parallel(n_jobs=32)]: Done 9321 tasks      | elapsed: 15.0min\n",
      "[Parallel(n_jobs=32)]: Done 9458 tasks      | elapsed: 15.3min\n",
      "[Parallel(n_jobs=32)]: Done 9597 tasks      | elapsed: 15.7min\n",
      "[Parallel(n_jobs=32)]: Done 9736 tasks      | elapsed: 16.0min\n",
      "[Parallel(n_jobs=32)]: Done 9877 tasks      | elapsed: 16.3min\n"
     ]
    },
    {
     "name": "stderr",
     "output_type": "stream",
     "text": [
      "[Parallel(n_jobs=32)]: Done 10018 tasks      | elapsed: 16.6min\n",
      "[Parallel(n_jobs=32)]: Done 10161 tasks      | elapsed: 16.9min\n",
      "[Parallel(n_jobs=32)]: Done 10304 tasks      | elapsed: 17.1min\n",
      "[Parallel(n_jobs=32)]: Done 10449 tasks      | elapsed: 17.4min\n",
      "[Parallel(n_jobs=32)]: Done 10594 tasks      | elapsed: 17.7min\n",
      "[Parallel(n_jobs=32)]: Done 10741 tasks      | elapsed: 18.0min\n",
      "[Parallel(n_jobs=32)]: Done 10888 tasks      | elapsed: 18.3min\n",
      "[Parallel(n_jobs=32)]: Done 11037 tasks      | elapsed: 18.6min\n",
      "[Parallel(n_jobs=32)]: Done 11186 tasks      | elapsed: 19.0min\n",
      "[Parallel(n_jobs=32)]: Done 11337 tasks      | elapsed: 19.3min\n",
      "[Parallel(n_jobs=32)]: Done 11488 tasks      | elapsed: 19.6min\n",
      "[Parallel(n_jobs=32)]: Done 11641 tasks      | elapsed: 19.9min\n",
      "[Parallel(n_jobs=32)]: Done 11794 tasks      | elapsed: 20.2min\n",
      "[Parallel(n_jobs=32)]: Done 11949 tasks      | elapsed: 20.6min\n",
      "[Parallel(n_jobs=32)]: Done 12104 tasks      | elapsed: 20.9min\n",
      "[Parallel(n_jobs=32)]: Done 12261 tasks      | elapsed: 21.2min\n",
      "[Parallel(n_jobs=32)]: Done 12418 tasks      | elapsed: 21.5min\n",
      "[Parallel(n_jobs=32)]: Done 12577 tasks      | elapsed: 21.9min\n",
      "[Parallel(n_jobs=32)]: Done 12736 tasks      | elapsed: 22.2min\n",
      "[Parallel(n_jobs=32)]: Done 12897 tasks      | elapsed: 22.5min\n",
      "[Parallel(n_jobs=32)]: Done 13058 tasks      | elapsed: 22.7min\n",
      "[Parallel(n_jobs=32)]: Done 13221 tasks      | elapsed: 22.8min\n",
      "[Parallel(n_jobs=32)]: Done 13384 tasks      | elapsed: 22.9min\n",
      "[Parallel(n_jobs=32)]: Done 13549 tasks      | elapsed: 22.9min\n",
      "[Parallel(n_jobs=32)]: Done 13714 tasks      | elapsed: 23.0min\n",
      "[Parallel(n_jobs=32)]: Done 13881 tasks      | elapsed: 23.1min\n",
      "[Parallel(n_jobs=32)]: Done 14048 tasks      | elapsed: 23.2min\n",
      "[Parallel(n_jobs=32)]: Done 14217 tasks      | elapsed: 23.3min\n",
      "[Parallel(n_jobs=32)]: Done 14386 tasks      | elapsed: 23.4min\n",
      "[Parallel(n_jobs=32)]: Done 14557 tasks      | elapsed: 23.5min\n",
      "[Parallel(n_jobs=32)]: Done 14728 tasks      | elapsed: 23.5min\n",
      "[Parallel(n_jobs=32)]: Done 14901 tasks      | elapsed: 23.6min\n",
      "[Parallel(n_jobs=32)]: Done 15074 tasks      | elapsed: 23.7min\n",
      "[Parallel(n_jobs=32)]: Done 15249 tasks      | elapsed: 23.8min\n",
      "[Parallel(n_jobs=32)]: Done 15424 tasks      | elapsed: 23.9min\n",
      "[Parallel(n_jobs=32)]: Done 15601 tasks      | elapsed: 24.0min\n",
      "[Parallel(n_jobs=32)]: Done 15778 tasks      | elapsed: 24.1min\n",
      "[Parallel(n_jobs=32)]: Done 15957 tasks      | elapsed: 24.2min\n",
      "[Parallel(n_jobs=32)]: Done 16136 tasks      | elapsed: 24.3min\n",
      "[Parallel(n_jobs=32)]: Done 16317 tasks      | elapsed: 24.6min\n",
      "[Parallel(n_jobs=32)]: Done 16498 tasks      | elapsed: 25.0min\n",
      "[Parallel(n_jobs=32)]: Done 16681 tasks      | elapsed: 25.5min\n",
      "[Parallel(n_jobs=32)]: Done 16864 tasks      | elapsed: 25.9min\n",
      "[Parallel(n_jobs=32)]: Done 17049 tasks      | elapsed: 26.3min\n",
      "[Parallel(n_jobs=32)]: Done 17234 tasks      | elapsed: 26.8min\n",
      "[Parallel(n_jobs=32)]: Done 17421 tasks      | elapsed: 27.2min\n",
      "[Parallel(n_jobs=32)]: Done 17608 tasks      | elapsed: 27.7min\n",
      "[Parallel(n_jobs=32)]: Done 17797 tasks      | elapsed: 28.1min\n",
      "[Parallel(n_jobs=32)]: Done 17986 tasks      | elapsed: 28.6min\n",
      "[Parallel(n_jobs=32)]: Done 18177 tasks      | elapsed: 29.0min\n",
      "[Parallel(n_jobs=32)]: Done 18368 tasks      | elapsed: 29.5min\n",
      "[Parallel(n_jobs=32)]: Done 18561 tasks      | elapsed: 30.0min\n",
      "[Parallel(n_jobs=32)]: Done 18754 tasks      | elapsed: 30.4min\n",
      "[Parallel(n_jobs=32)]: Done 18949 tasks      | elapsed: 30.9min\n",
      "[Parallel(n_jobs=32)]: Done 19144 tasks      | elapsed: 31.4min\n",
      "[Parallel(n_jobs=32)]: Done 19341 tasks      | elapsed: 31.8min\n",
      "[Parallel(n_jobs=32)]: Done 19440 out of 19440 | elapsed: 32.1min finished\n"
     ]
    },
    {
     "name": "stdout",
     "output_type": "stream",
     "text": [
      "0.8604285714285714\n",
      "{'alpha': 0, 'colsample_bytree': 0.8, 'eta': 10, 'gamma': 0.01, 'lambda': 0, 'learning_rate': 0.01, 'max_depth': 8, 'min_child_weight': 1, 'n_estimators': 150}\n",
      "XGBClassifier(alpha=0, colsample_bytree=0.8, eta=10, gamma=0.01, lambda=0,\n",
      "              learning_rate=0.01, max_depth=8, n_estimators=150)\n"
     ]
    }
   ],
   "source": [
    "from xgboost import XGBClassifier\n",
    "from sklearn.utils.testing import ignore_warnings\n",
    "\n",
    "xgb = XGBClassifier()\n",
    "# param_grid = {'max_depth': [5,6,7,8,10,15], 'gamma': [0.1, 1, 2, 4], \n",
    "#               'learning_rate': [0.01, 0.1, 0.2, 0.3, 0.5]}\n",
    "\n",
    "# with ignore_warnings(category=DeprecationWarning):\n",
    "#     xgb_grid = GridSearchCVProgressBar(xgb, params_n, refit=True, verbose=1)\n",
    "#     xgb_grid.fit(df_train,target, eval_metric='auc')\n",
    "xgb_grid = GridSearchCV(xgb, params_n, n_jobs=32, refit=True, verbose=10)\n",
    "xgb_grid.fit(X_train, y_train, eval_metric='auc')\n",
    "get_best_score(xgb_grid)"
   ]
  },
  {
   "cell_type": "code",
   "execution_count": 166,
   "metadata": {},
   "outputs": [],
   "source": [
    "y_test_predict = xgb_grid.predict(X_test)"
   ]
  },
  {
   "cell_type": "code",
   "execution_count": 167,
   "metadata": {},
   "outputs": [
    {
     "name": "stdout",
     "output_type": "stream",
     "text": [
      "Accuracy: 0.871\n",
      "ROC-AUC : 0.714758346185249\n",
      "f1_score: 0.5807150595882989\n"
     ]
    }
   ],
   "source": [
    "print('Accuracy:', accuracy_score(y_test, y_test_predict))\n",
    "print('ROC-AUC :', roc_auc_score(y_test, y_test_predict))\n",
    "print('f1_score:', f1_score(y_test, y_test_predict))"
   ]
  },
  {
   "cell_type": "code",
   "execution_count": null,
   "metadata": {},
   "outputs": [],
   "source": []
  }
 ],
 "metadata": {
  "kernelspec": {
   "display_name": "Python 3",
   "language": "python",
   "name": "python3"
  },
  "language_info": {
   "codemirror_mode": {
    "name": "ipython",
    "version": 3
   },
   "file_extension": ".py",
   "mimetype": "text/x-python",
   "name": "python",
   "nbconvert_exporter": "python",
   "pygments_lexer": "ipython3",
   "version": "3.7.6"
  }
 },
 "nbformat": 4,
 "nbformat_minor": 4
}
